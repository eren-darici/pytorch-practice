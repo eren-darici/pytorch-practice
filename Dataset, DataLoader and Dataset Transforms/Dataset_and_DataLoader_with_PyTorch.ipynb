{
  "nbformat": 4,
  "nbformat_minor": 0,
  "metadata": {
    "colab": {
      "provenance": []
    },
    "kernelspec": {
      "name": "python3",
      "display_name": "Python 3"
    },
    "language_info": {
      "name": "python"
    }
  },
  "cells": [
    {
      "cell_type": "code",
      "execution_count": null,
      "metadata": {
        "id": "QzPbIJ9GEnbM"
      },
      "outputs": [],
      "source": [
        "import torch\n",
        "import torchvision\n",
        "from torch.utils.data import Dataset, DataLoader\n",
        "import numpy as np\n",
        "import math"
      ]
    },
    {
      "cell_type": "code",
      "source": [
        "class WineDataset(Dataset):\n",
        "  def __init__(self):\n",
        "    # data loading\n",
        "    xy = np.loadtxt('./data/wine/wine.csv', delimiter=',',\n",
        "                    dtype=np.float32, skiprows=1)\n",
        "    self.x = torch.from_numpy(xy[:, 1:])\n",
        "    self.y = torch.from_numpy(xy[:, [0]])\n",
        "    self.n_samples = xy.shape[0]\n",
        "\n",
        "  def __getitem__(self, index):\n",
        "     return self.x[index], self.y[index]\n",
        "\n",
        "  def __len__(self):\n",
        "    return self.n_samples"
      ],
      "metadata": {
        "id": "9MA2baMsF1pW"
      },
      "execution_count": null,
      "outputs": []
    },
    {
      "cell_type": "code",
      "source": [
        "dataset = WineDataset()"
      ],
      "metadata": {
        "id": "3qbdkfkkHAc3"
      },
      "execution_count": null,
      "outputs": []
    },
    {
      "cell_type": "code",
      "source": [
        "first_data = dataset[0]\n",
        "features, labels = first_data\n",
        "print(features, labels)"
      ],
      "metadata": {
        "colab": {
          "base_uri": "https://localhost:8080/"
        },
        "id": "UFiD9RcZHBhz",
        "outputId": "3e3c3c30-a2f4-4db2-f735-d6f1a0d61461"
      },
      "execution_count": null,
      "outputs": [
        {
          "output_type": "stream",
          "name": "stdout",
          "text": [
            "tensor([1.4230e+01, 1.7100e+00, 2.4300e+00, 1.5600e+01, 1.2700e+02, 2.8000e+00,\n",
            "        3.0600e+00, 2.8000e-01, 2.2900e+00, 5.6400e+00, 1.0400e+00, 3.9200e+00,\n",
            "        1.0650e+03]) tensor([1.])\n"
          ]
        }
      ]
    },
    {
      "cell_type": "code",
      "source": [
        "dataloader = DataLoader(dataset=dataset, batch_size=4, shuffle=True, num_workers=2)"
      ],
      "metadata": {
        "id": "-gWJOqu8HC8I"
      },
      "execution_count": null,
      "outputs": []
    },
    {
      "cell_type": "code",
      "source": [
        "# training loop\n",
        "num_epochs = 2\n",
        "total_samples = len(dataset)\n",
        "n_iterations = math.ceil(total_samples / 4)\n",
        "print(total_samples, n_iterations)\n",
        "\n",
        "for epoch in range(num_epochs):\n",
        "  for i, (inputs, labels) in enumerate(dataloader):\n",
        "    # forward, backward, update\n",
        "\n",
        "    if (i+1) % 5 == 0:\n",
        "      print(f'epoch: {epoch+1}/{num_epochs}, step: {i+1}/{n_iterations}')"
      ],
      "metadata": {
        "colab": {
          "base_uri": "https://localhost:8080/"
        },
        "id": "tFiyzqUeHeU-",
        "outputId": "e11cb3bb-965e-4d49-ecc6-44fa45a71980"
      },
      "execution_count": null,
      "outputs": [
        {
          "output_type": "stream",
          "name": "stdout",
          "text": [
            "178 45\n",
            "epoch: 1/2, step: 5/45\n",
            "epoch: 1/2, step: 10/45\n",
            "epoch: 1/2, step: 15/45\n",
            "epoch: 1/2, step: 20/45\n",
            "epoch: 1/2, step: 25/45\n",
            "epoch: 1/2, step: 30/45\n",
            "epoch: 1/2, step: 35/45\n",
            "epoch: 1/2, step: 40/45\n",
            "epoch: 1/2, step: 45/45\n",
            "epoch: 2/2, step: 5/45\n",
            "epoch: 2/2, step: 10/45\n",
            "epoch: 2/2, step: 15/45\n",
            "epoch: 2/2, step: 20/45\n",
            "epoch: 2/2, step: 25/45\n",
            "epoch: 2/2, step: 30/45\n",
            "epoch: 2/2, step: 35/45\n",
            "epoch: 2/2, step: 40/45\n",
            "epoch: 2/2, step: 45/45\n"
          ]
        }
      ]
    },
    {
      "cell_type": "code",
      "source": [],
      "metadata": {
        "id": "h6-Tx6FhHzqe"
      },
      "execution_count": null,
      "outputs": []
    }
  ]
}