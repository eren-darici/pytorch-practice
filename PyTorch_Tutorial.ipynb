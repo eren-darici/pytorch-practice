{
  "nbformat": 4,
  "nbformat_minor": 0,
  "metadata": {
    "colab": {
      "provenance": []
    },
    "kernelspec": {
      "name": "python3",
      "display_name": "Python 3"
    },
    "language_info": {
      "name": "python"
    }
  },
  "cells": [
    {
      "cell_type": "code",
      "execution_count": null,
      "metadata": {
        "id": "eB2wFVQwuUdU"
      },
      "outputs": [],
      "source": [
        "import torch\n",
        "import numpy as np"
      ]
    },
    {
      "cell_type": "code",
      "source": [
        "x = torch.ones(5, requires_grad=True)\n",
        "print(x)"
      ],
      "metadata": {
        "colab": {
          "base_uri": "https://localhost:8080/"
        },
        "id": "hQqdvOC7uygJ",
        "outputId": "8fcbec99-2afa-40ac-d158-c83b266f9b90"
      },
      "execution_count": null,
      "outputs": [
        {
          "output_type": "stream",
          "name": "stdout",
          "text": [
            "tensor([1., 1., 1., 1., 1.], requires_grad=True)\n"
          ]
        }
      ]
    },
    {
      "cell_type": "markdown",
      "source": [
        "# Autograd"
      ],
      "metadata": {
        "id": "1gYxVSNXvS_8"
      }
    },
    {
      "cell_type": "code",
      "source": [
        "x = torch.randn(3, requires_grad=True)\n",
        "print(x)"
      ],
      "metadata": {
        "colab": {
          "base_uri": "https://localhost:8080/"
        },
        "id": "lTeFJ9eovNAc",
        "outputId": "bb46d549-be50-4d30-cc09-033fa1773c30"
      },
      "execution_count": null,
      "outputs": [
        {
          "output_type": "stream",
          "name": "stdout",
          "text": [
            "tensor([-1.3707, -0.0525,  0.5541], requires_grad=True)\n"
          ]
        }
      ]
    },
    {
      "cell_type": "code",
      "source": [
        "y = x + 2\n",
        "print(y)"
      ],
      "metadata": {
        "colab": {
          "base_uri": "https://localhost:8080/"
        },
        "id": "8YxumQEOvWg-",
        "outputId": "7881700b-69fe-4d27-8518-8205965d44c6"
      },
      "execution_count": null,
      "outputs": [
        {
          "output_type": "stream",
          "name": "stdout",
          "text": [
            "tensor([0.6293, 1.9475, 2.5541], grad_fn=<AddBackward0>)\n"
          ]
        }
      ]
    },
    {
      "cell_type": "code",
      "source": [
        "z = y * y * 2\n",
        "# z = z.mean()\n",
        "print(z)"
      ],
      "metadata": {
        "colab": {
          "base_uri": "https://localhost:8080/"
        },
        "id": "GryD9oimvf6z",
        "outputId": "eed897f4-bb2b-48a3-f670-e9ac36d08084"
      },
      "execution_count": null,
      "outputs": [
        {
          "output_type": "stream",
          "name": "stdout",
          "text": [
            "tensor([ 0.7921,  7.5855, 13.0468], grad_fn=<MulBackward0>)\n"
          ]
        }
      ]
    },
    {
      "cell_type": "code",
      "source": [
        "v = torch.tensor([0.1, 1.0, 0.001], dtype=torch.float32)\n",
        "z.backward(v) # dz/dx\n",
        "print(x.grad)"
      ],
      "metadata": {
        "colab": {
          "base_uri": "https://localhost:8080/"
        },
        "id": "2DthIAjpwEtl",
        "outputId": "41be37c3-b226-4d52-db5c-1390c8d73dc2"
      },
      "execution_count": null,
      "outputs": [
        {
          "output_type": "stream",
          "name": "stdout",
          "text": [
            "tensor([0.2517, 7.7900, 0.0102])\n"
          ]
        }
      ]
    },
    {
      "cell_type": "markdown",
      "source": [
        "# Backpropagation"
      ],
      "metadata": {
        "id": "lzvHswFn0AyL"
      }
    },
    {
      "cell_type": "code",
      "source": [
        "x = torch.tensor(1.0)\n",
        "y = torch.tensor(2.0)\n",
        "\n",
        "w = torch.tensor(1.0, requires_grad=True)"
      ],
      "metadata": {
        "id": "eI5bjnzTwN0p"
      },
      "execution_count": null,
      "outputs": []
    },
    {
      "cell_type": "code",
      "source": [
        "# Forward pass and compute the loss\n",
        "y_hat = w * x\n",
        "loss = (y_hat - y) ** 2\n",
        "\n",
        "print(loss)"
      ],
      "metadata": {
        "colab": {
          "base_uri": "https://localhost:8080/"
        },
        "id": "tQz68vk-0FCd",
        "outputId": "e9478a27-8020-4389-c2c1-e3b31148d4d7"
      },
      "execution_count": null,
      "outputs": [
        {
          "output_type": "stream",
          "name": "stdout",
          "text": [
            "tensor(1., grad_fn=<PowBackward0>)\n"
          ]
        }
      ]
    },
    {
      "cell_type": "code",
      "source": [
        "# Backward pass\n",
        "loss.backward()\n",
        "print(w.grad)"
      ],
      "metadata": {
        "colab": {
          "base_uri": "https://localhost:8080/"
        },
        "id": "8w9EEPUe0Q-y",
        "outputId": "0a8dfc1e-d5ee-42c8-f9fc-2ad3949aeb60"
      },
      "execution_count": null,
      "outputs": [
        {
          "output_type": "stream",
          "name": "stdout",
          "text": [
            "tensor(-2.)\n"
          ]
        }
      ]
    },
    {
      "cell_type": "markdown",
      "source": [
        "# Gradient Descent Numpy"
      ],
      "metadata": {
        "id": "-gAjACH91LML"
      }
    },
    {
      "cell_type": "code",
      "source": [
        "# f = w * x\n",
        "# f = 2 * w\n",
        "\n",
        "X = np.array([1, 2, 3, 4], dtype=np.float32)\n",
        "Y = np.array([2, 4, 6, 8], dtype=np.float32)\n",
        "\n",
        "w = 0.0"
      ],
      "metadata": {
        "id": "JPpt9KVY1NJ2"
      },
      "execution_count": null,
      "outputs": []
    },
    {
      "cell_type": "code",
      "source": [
        "# model prediction\n",
        "def forward(x):\n",
        "  return w * x"
      ],
      "metadata": {
        "id": "0h9oL3pt1gdN"
      },
      "execution_count": null,
      "outputs": []
    },
    {
      "cell_type": "code",
      "source": [
        "# loss = MSE\n",
        "def loss(y, y_predicted):\n",
        "  return ((y_predicted - y) ** 2).mean()"
      ],
      "metadata": {
        "id": "uU3cAL871lEE"
      },
      "execution_count": null,
      "outputs": []
    },
    {
      "cell_type": "code",
      "source": [
        "# gradient\n",
        "# MSE = 1/N * (w * x -y) ** 2\n",
        "# dJ/dw = 1/N 2x (w * x - y)\n",
        "\n",
        "def gradient(x, y, y_predicted):\n",
        "  return np.dot(2*x, y_predicted-y).mean()"
      ],
      "metadata": {
        "id": "UUOJpEdg1wLL"
      },
      "execution_count": null,
      "outputs": []
    },
    {
      "cell_type": "code",
      "source": [
        "print(f'Prediction before training: f(5) = {forward(5):.3f}')"
      ],
      "metadata": {
        "colab": {
          "base_uri": "https://localhost:8080/"
        },
        "id": "Qc6qfgVr16qQ",
        "outputId": "1ec7c523-4993-426e-d736-06219430efd0"
      },
      "execution_count": null,
      "outputs": [
        {
          "output_type": "stream",
          "name": "stdout",
          "text": [
            "Prediction before training: f(5) = 0.000\n"
          ]
        }
      ]
    },
    {
      "cell_type": "code",
      "source": [
        "# training\n",
        "learning_rate = 0.01\n",
        "n_iters = 20\n",
        "\n",
        "for epoch in range(n_iters):\n",
        "  # prediction = forward pass\n",
        "  y_pred = forward(X)\n",
        "\n",
        "  # loss\n",
        "  l = loss(Y, y_pred)\n",
        "\n",
        "  # gradients = backward pass\n",
        "  dw = gradient(X, Y, y_pred)\n",
        "\n",
        "  # update weights\n",
        "  w -= learning_rate * dw\n",
        "\n",
        "  if epoch % 2 == 0:\n",
        "    print(f'epoch: {epoch+1}: w={w:.3f}, loss={l:.8f}')\n",
        "\n",
        "print(f'Prediction after training: f(5) = {forward(5):.3f}')"
      ],
      "metadata": {
        "colab": {
          "base_uri": "https://localhost:8080/"
        },
        "id": "wD_9-Qao2RPt",
        "outputId": "6faccadf-466f-4305-bc56-15b96d91a2f6"
      },
      "execution_count": null,
      "outputs": [
        {
          "output_type": "stream",
          "name": "stdout",
          "text": [
            "epoch: 1: w=1.200, loss=30.00000000\n",
            "epoch: 3: w=1.872, loss=0.76800019\n",
            "epoch: 5: w=1.980, loss=0.01966083\n",
            "epoch: 7: w=1.997, loss=0.00050331\n",
            "epoch: 9: w=1.999, loss=0.00001288\n",
            "epoch: 11: w=2.000, loss=0.00000033\n",
            "epoch: 13: w=2.000, loss=0.00000001\n",
            "epoch: 15: w=2.000, loss=0.00000000\n",
            "epoch: 17: w=2.000, loss=0.00000000\n",
            "epoch: 19: w=2.000, loss=0.00000000\n",
            "Prediction after training: f(5) = 10.000\n"
          ]
        }
      ]
    },
    {
      "cell_type": "markdown",
      "source": [
        "# Gradient Descent Torch"
      ],
      "metadata": {
        "id": "AKz6CRIy3EYP"
      }
    },
    {
      "cell_type": "code",
      "source": [
        "# f = w * x\n",
        "# f = 2 * w\n",
        "\n",
        "X = torch.tensor([1, 2, 3, 4], dtype=torch.float32)\n",
        "Y = torch.tensor([2, 4, 6, 8], dtype=torch.float32)\n",
        "\n",
        "w = torch.tensor(0.0, dtype=torch.float32, requires_grad=True)"
      ],
      "metadata": {
        "id": "CcIJcBFb3FmL"
      },
      "execution_count": null,
      "outputs": []
    },
    {
      "cell_type": "code",
      "source": [
        "# model prediction\n",
        "def forward(x):\n",
        "  return w * x"
      ],
      "metadata": {
        "id": "M3VIptVr3SEM"
      },
      "execution_count": null,
      "outputs": []
    },
    {
      "cell_type": "code",
      "source": [
        "# loss = MSE\n",
        "def loss(y, y_predicted):\n",
        "  return ((y_predicted - y) ** 2).mean()"
      ],
      "metadata": {
        "id": "T-NP-8Oa3UKP"
      },
      "execution_count": null,
      "outputs": []
    },
    {
      "cell_type": "code",
      "source": [
        "# training\n",
        "learning_rate = 0.01\n",
        "n_iters = 100\n",
        "\n",
        "for epoch in range(n_iters):\n",
        "  # prediction = forward pass\n",
        "  y_pred = forward(X)\n",
        "\n",
        "  # loss\n",
        "  l = loss(Y, y_pred)\n",
        "\n",
        "  # gradients = backward pass\n",
        "  l.backward() # dl/dw\n",
        "\n",
        "  # update weights\n",
        "  with torch.no_grad():\n",
        "    w -= learning_rate * w.grad\n",
        "\n",
        "  # zero gradients\n",
        "  w.grad.zero_()\n",
        "\n",
        "  if epoch % 2 == 0:\n",
        "    print(f'epoch: {epoch+1}: w={w:.3f}, loss={l:.8f}')\n",
        "\n",
        "print(f'Prediction after training: f(5) = {forward(5):.3f}')"
      ],
      "metadata": {
        "colab": {
          "base_uri": "https://localhost:8080/"
        },
        "id": "Co8hLwjq3VfH",
        "outputId": "625a099f-2b1f-4047-f4f9-2367f8a011f7"
      },
      "execution_count": null,
      "outputs": [
        {
          "output_type": "stream",
          "name": "stdout",
          "text": [
            "epoch: 1: w=1.934, loss=0.04506890\n",
            "epoch: 3: w=1.952, loss=0.02352631\n",
            "epoch: 5: w=1.966, loss=0.01228084\n",
            "epoch: 7: w=1.975, loss=0.00641066\n",
            "epoch: 9: w=1.982, loss=0.00334642\n",
            "epoch: 11: w=1.987, loss=0.00174685\n",
            "epoch: 13: w=1.991, loss=0.00091188\n",
            "epoch: 15: w=1.993, loss=0.00047601\n",
            "epoch: 17: w=1.995, loss=0.00024848\n",
            "epoch: 19: w=1.996, loss=0.00012971\n",
            "epoch: 21: w=1.997, loss=0.00006770\n",
            "epoch: 23: w=1.998, loss=0.00003534\n",
            "epoch: 25: w=1.999, loss=0.00001845\n",
            "epoch: 27: w=1.999, loss=0.00000963\n",
            "epoch: 29: w=1.999, loss=0.00000503\n",
            "epoch: 31: w=1.999, loss=0.00000262\n",
            "epoch: 33: w=2.000, loss=0.00000137\n",
            "epoch: 35: w=2.000, loss=0.00000071\n",
            "epoch: 37: w=2.000, loss=0.00000037\n",
            "epoch: 39: w=2.000, loss=0.00000019\n",
            "epoch: 41: w=2.000, loss=0.00000010\n",
            "epoch: 43: w=2.000, loss=0.00000005\n",
            "epoch: 45: w=2.000, loss=0.00000003\n",
            "epoch: 47: w=2.000, loss=0.00000001\n",
            "epoch: 49: w=2.000, loss=0.00000001\n",
            "epoch: 51: w=2.000, loss=0.00000000\n",
            "epoch: 53: w=2.000, loss=0.00000000\n",
            "epoch: 55: w=2.000, loss=0.00000000\n",
            "epoch: 57: w=2.000, loss=0.00000000\n",
            "epoch: 59: w=2.000, loss=0.00000000\n",
            "epoch: 61: w=2.000, loss=0.00000000\n",
            "epoch: 63: w=2.000, loss=0.00000000\n",
            "epoch: 65: w=2.000, loss=0.00000000\n",
            "epoch: 67: w=2.000, loss=0.00000000\n",
            "epoch: 69: w=2.000, loss=0.00000000\n",
            "epoch: 71: w=2.000, loss=0.00000000\n",
            "epoch: 73: w=2.000, loss=0.00000000\n",
            "epoch: 75: w=2.000, loss=0.00000000\n",
            "epoch: 77: w=2.000, loss=0.00000000\n",
            "epoch: 79: w=2.000, loss=0.00000000\n",
            "epoch: 81: w=2.000, loss=0.00000000\n",
            "epoch: 83: w=2.000, loss=0.00000000\n",
            "epoch: 85: w=2.000, loss=0.00000000\n",
            "epoch: 87: w=2.000, loss=0.00000000\n",
            "epoch: 89: w=2.000, loss=0.00000000\n",
            "epoch: 91: w=2.000, loss=0.00000000\n",
            "epoch: 93: w=2.000, loss=0.00000000\n",
            "epoch: 95: w=2.000, loss=0.00000000\n",
            "epoch: 97: w=2.000, loss=0.00000000\n",
            "epoch: 99: w=2.000, loss=0.00000000\n",
            "Prediction after training: f(5) = 10.000\n"
          ]
        }
      ]
    },
    {
      "cell_type": "markdown",
      "source": [
        "# Training Pipeline"
      ],
      "metadata": {
        "id": "rL3W4Qyt6sJv"
      }
    },
    {
      "cell_type": "code",
      "source": [
        "# 1) Design model (input, output size, forward pass)\n",
        "# 2) Construct loss and optimizer\n",
        "# 3) Training loop\n",
        "# - forward pass: compute prediction\n",
        "# - backward pass: gradients\n",
        "# - update weights"
      ],
      "metadata": {
        "id": "XIVyNIry30WF"
      },
      "execution_count": null,
      "outputs": []
    },
    {
      "cell_type": "code",
      "source": [
        "import torch.nn as nn"
      ],
      "metadata": {
        "id": "YV6CwlAL7Q-d"
      },
      "execution_count": null,
      "outputs": []
    },
    {
      "cell_type": "code",
      "source": [
        "# f = w * x\n",
        "# f = 2 * w\n",
        "\n",
        "X = torch.tensor([[1], [2], [3], [4]], dtype=torch.float32)\n",
        "Y = torch.tensor([[2], [4], [6], [8]], dtype=torch.float32)\n",
        "\n",
        "X_test = torch.tensor([5], dtype=torch.float32)\n",
        "\n",
        "n_samples, n_features = X.shape\n",
        "print(n_samples, n_features)"
      ],
      "metadata": {
        "colab": {
          "base_uri": "https://localhost:8080/"
        },
        "id": "dg2MP7iT7ivz",
        "outputId": "4eac2c70-1654-44d6-82d7-3ed8ca84a268"
      },
      "execution_count": null,
      "outputs": [
        {
          "output_type": "stream",
          "name": "stdout",
          "text": [
            "4 1\n"
          ]
        }
      ]
    },
    {
      "cell_type": "code",
      "source": [
        "input_size = n_features\n",
        "output_size = n_features\n",
        "\n",
        "model = nn.Linear(input_size, output_size)\n",
        "\n",
        "print(f'Prediction before training: f(5) = {model(X_test).item():.3f}')"
      ],
      "metadata": {
        "colab": {
          "base_uri": "https://localhost:8080/"
        },
        "id": "pKZm1Hdn7jCT",
        "outputId": "ca8ae44c-b3e9-4923-dbc0-ee09ce4e9c08"
      },
      "execution_count": null,
      "outputs": [
        {
          "output_type": "stream",
          "name": "stdout",
          "text": [
            "Prediction before training: f(5) = 4.503\n"
          ]
        }
      ]
    },
    {
      "cell_type": "code",
      "source": [
        "# training\n",
        "learning_rate = 0.01\n",
        "n_iters = 100\n",
        "\n",
        "loss = nn.MSELoss()\n",
        "optimizer = torch.optim.SGD(model.parameters(), lr=learning_rate)\n",
        "\n",
        "for epoch in range(n_iters):\n",
        "  # prediction = forward pass\n",
        "  y_pred = model(X)\n",
        "\n",
        "  # loss\n",
        "  l = loss(Y, y_pred)\n",
        "\n",
        "  # gradients = backward pass\n",
        "  l.backward() # dl/dw\n",
        "\n",
        "  # update weights\n",
        "  optimizer.step()\n",
        "\n",
        "  # zero gradients\n",
        "  optimizer.zero_grad()\n",
        "\n",
        "  if epoch % 10 == 0:\n",
        "    [w, b] = model.parameters()\n",
        "    print(f'epoch: {epoch+1}: w={w[0][0].item():.3f}, loss={l:.8f}')\n",
        "\n",
        "print(f'Prediction after training: f(5) = {model(X_test).item():.3f}')"
      ],
      "metadata": {
        "colab": {
          "base_uri": "https://localhost:8080/"
        },
        "id": "b5XE3Uei7qPc",
        "outputId": "7a0d9161-57bc-4bc2-9fb6-280db65b9403"
      },
      "execution_count": null,
      "outputs": [
        {
          "output_type": "stream",
          "name": "stdout",
          "text": [
            "epoch: 1: w=1.790, loss=0.06386760\n",
            "epoch: 11: w=1.796, loss=0.06015017\n",
            "epoch: 21: w=1.803, loss=0.05664911\n",
            "epoch: 31: w=1.808, loss=0.05335178\n",
            "epoch: 41: w=1.814, loss=0.05024648\n",
            "epoch: 51: w=1.819, loss=0.04732185\n",
            "epoch: 61: w=1.825, loss=0.04456754\n",
            "epoch: 71: w=1.830, loss=0.04197349\n",
            "epoch: 81: w=1.835, loss=0.03953036\n",
            "epoch: 91: w=1.840, loss=0.03722950\n",
            "Prediction after training: f(5) = 9.679\n"
          ]
        }
      ]
    },
    {
      "cell_type": "code",
      "source": [],
      "metadata": {
        "id": "eu5iZHOZ8LBd"
      },
      "execution_count": null,
      "outputs": []
    }
  ]
}