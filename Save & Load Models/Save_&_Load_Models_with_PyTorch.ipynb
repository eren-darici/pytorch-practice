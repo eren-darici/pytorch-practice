{
  "nbformat": 4,
  "nbformat_minor": 0,
  "metadata": {
    "colab": {
      "provenance": []
    },
    "kernelspec": {
      "name": "python3",
      "display_name": "Python 3"
    },
    "language_info": {
      "name": "python"
    }
  },
  "cells": [
    {
      "cell_type": "code",
      "execution_count": 9,
      "metadata": {
        "id": "uJS-K3Lw2i4f"
      },
      "outputs": [],
      "source": [
        "import torch\n",
        "import torch.nn as nn"
      ]
    },
    {
      "cell_type": "code",
      "source": [
        "class Model(nn.Module):\n",
        "  def __init__(self, n_input_features):\n",
        "    super(Model, self).__init__()\n",
        "    self.linear = nn.Linear(n_input_features, 1)\n",
        "\n",
        "  def forward(self, x):\n",
        "    y_pred = torch.sigmoid(self.linear(x))\n",
        "    return y_pred"
      ],
      "metadata": {
        "id": "2W31NrO62qGm"
      },
      "execution_count": 10,
      "outputs": []
    },
    {
      "cell_type": "code",
      "source": [
        "model = Model(n_input_features=6)"
      ],
      "metadata": {
        "id": "dvOTYj1i258c"
      },
      "execution_count": 17,
      "outputs": []
    },
    {
      "cell_type": "code",
      "source": [
        "FILE = 'model.pth'\n",
        "# torch.save(model, FILE)"
      ],
      "metadata": {
        "id": "UqMH_wy028Oz"
      },
      "execution_count": 18,
      "outputs": []
    },
    {
      "cell_type": "code",
      "source": [
        "# model = torch.load(FILE)\n",
        "# model.eval()"
      ],
      "metadata": {
        "id": "1HYjm-ge2__z"
      },
      "execution_count": 19,
      "outputs": []
    },
    {
      "cell_type": "code",
      "source": [
        "torch.save(model.state_dict(), FILE)"
      ],
      "metadata": {
        "id": "c3FwFRZY3yjU"
      },
      "execution_count": 20,
      "outputs": []
    },
    {
      "cell_type": "code",
      "source": [
        "loaded_model = Model(n_input_features=6)\n",
        "loaded_model.load_state_dict(torch.load(FILE))\n",
        "loaded_model.eval()"
      ],
      "metadata": {
        "colab": {
          "base_uri": "https://localhost:8080/"
        },
        "id": "8hnqrlNj4FGJ",
        "outputId": "1fbdd2bd-5169-4314-cf69-2769999dc300"
      },
      "execution_count": 23,
      "outputs": [
        {
          "output_type": "execute_result",
          "data": {
            "text/plain": [
              "Model(\n",
              "  (linear): Linear(in_features=6, out_features=1, bias=True)\n",
              ")"
            ]
          },
          "metadata": {},
          "execution_count": 23
        }
      ]
    },
    {
      "cell_type": "code",
      "source": [
        "print('Parameters of normal model:')\n",
        "for param in model.parameters():\n",
        "  print(param)\n",
        "\n",
        "print('\\nParameters of loaded model:')\n",
        "for param in loaded_model.parameters():\n",
        "  print(param)"
      ],
      "metadata": {
        "colab": {
          "base_uri": "https://localhost:8080/"
        },
        "id": "ViC9HArE3JGI",
        "outputId": "21b36c71-c6ca-4412-8c46-86eac90f7c67"
      },
      "execution_count": 25,
      "outputs": [
        {
          "output_type": "stream",
          "name": "stdout",
          "text": [
            "Parameters of normal model:\n",
            "Parameter containing:\n",
            "tensor([[-0.3911,  0.1635,  0.3484, -0.3115,  0.0433, -0.2030]],\n",
            "       requires_grad=True)\n",
            "Parameter containing:\n",
            "tensor([-0.2587], requires_grad=True)\n",
            "\n",
            "Parameters of loaded model:\n",
            "Parameter containing:\n",
            "tensor([[-0.3911,  0.1635,  0.3484, -0.3115,  0.0433, -0.2030]],\n",
            "       requires_grad=True)\n",
            "Parameter containing:\n",
            "tensor([-0.2587], requires_grad=True)\n"
          ]
        }
      ]
    },
    {
      "cell_type": "code",
      "source": [],
      "metadata": {
        "id": "ucF9fJ3P3MiS"
      },
      "execution_count": null,
      "outputs": []
    }
  ]
}